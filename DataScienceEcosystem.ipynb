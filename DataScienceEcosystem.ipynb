{
 "cells": [
  {
   "cell_type": "markdown",
   "id": "88009495-f5b7-4dc9-94c1-31523f89b4df",
   "metadata": {},
   "source": [
    "# Data Science Tools and Ecosystem"
   ]
  },
  {
   "cell_type": "markdown",
   "id": "0bce524e-8b3c-4948-8658-205e92bf1ace",
   "metadata": {},
   "source": [
    "In this notebook, Data and Science Tools and Ecosystem are summarized. "
   ]
  },
  {
   "cell_type": "markdown",
   "id": "41c90fe7-c722-435e-8cf4-383984eacaae",
   "metadata": {},
   "source": [
    "**Objectives:**\n",
    "- List of some popular languages that Data Scientists use\n",
    "- List of some commonly used libraries used by Data Scientists\n",
    "- Evaluate some arithmetic expressions in Python\n",
    "- Create a table"
   ]
  },
  {
   "cell_type": "markdown",
   "id": "a634231a-6e54-43b7-8763-b065b7bf9e62",
   "metadata": {},
   "source": [
    "Some of the popular languages that Data Scientists use are:\n",
    "1. Python\n",
    "2. SQL\n",
    "3. R\n",
    "4. Java"
   ]
  },
  {
   "cell_type": "markdown",
   "id": "249e5ac3-ae92-4225-9cf7-c80f3ae947d7",
   "metadata": {},
   "source": [
    "Some of the commonly used libraries used by Data Scientists include:\n",
    "1. Pandas\n",
    "2. NumPy\n",
    "3. PyTorch\n",
    "4. SciKit-learn\n"
   ]
  },
  {
   "cell_type": "markdown",
   "id": "5c92b626-975c-464c-aac6-09eb0a834117",
   "metadata": {},
   "source": [
    "|Data Science Tools|\n",
    "|------|\n",
    "|Jupyter Notebook|\n",
    "|RStudio IDE|\n",
    "|GitHub|"
   ]
  },
  {
   "cell_type": "markdown",
   "id": "ab7c9887-926d-40e5-9766-3dce015c228d",
   "metadata": {},
   "source": [
    "### Below are a few examples of evaluating arithmetic expressions in Python."
   ]
  },
  {
   "cell_type": "code",
   "execution_count": 1,
   "id": "287dce39-9d80-4124-ba2f-ee65c240217a",
   "metadata": {
    "tags": []
   },
   "outputs": [
    {
     "data": {
      "text/plain": [
       "17"
      ]
     },
     "execution_count": 1,
     "metadata": {},
     "output_type": "execute_result"
    }
   ],
   "source": [
    "(3*4)+5\n",
    "#This is a simple arithmetic expression to multiply then add integers.\n"
   ]
  },
  {
   "cell_type": "code",
   "execution_count": 4,
   "id": "50256f54-782a-410e-bfd1-1d97a4481c16",
   "metadata": {
    "tags": []
   },
   "outputs": [
    {
     "data": {
      "text/plain": [
       "3.3333333333333335"
      ]
     },
     "execution_count": 4,
     "metadata": {},
     "output_type": "execute_result"
    }
   ],
   "source": [
    "200/60\n",
    "#This will convert 200 minutes to hours by dividing by 60\n"
   ]
  },
  {
   "cell_type": "markdown",
   "id": "7e99312e-da18-47c6-9ed9-0cd7da492067",
   "metadata": {},
   "source": [
    "## Author\n",
    "Gbenga Amode"
   ]
  },
  {
   "cell_type": "code",
   "execution_count": null,
   "id": "0c09088a-f1e5-4897-b4c5-24a978bb02e5",
   "metadata": {},
   "outputs": [],
   "source": []
  }
 ],
 "metadata": {
  "kernelspec": {
   "display_name": "Python",
   "language": "python",
   "name": "conda-env-python-py"
  },
  "language_info": {
   "codemirror_mode": {
    "name": "ipython",
    "version": 3
   },
   "file_extension": ".py",
   "mimetype": "text/x-python",
   "name": "python",
   "nbconvert_exporter": "python",
   "pygments_lexer": "ipython3",
   "version": "3.7.12"
  }
 },
 "nbformat": 4,
 "nbformat_minor": 5
}
